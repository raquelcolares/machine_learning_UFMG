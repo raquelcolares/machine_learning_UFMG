{
  "nbformat": 4,
  "nbformat_minor": 0,
  "metadata": {
    "colab": {
      "name": "tp2.ipynb",
      "provenance": [],
      "collapsed_sections": []
    },
    "kernelspec": {
      "name": "python3",
      "display_name": "Python 3"
    },
    "language_info": {
      "name": "python"
    }
  },
  "cells": [
    {
      "cell_type": "markdown",
      "source": [
        "Nome: Raquel Colares Santos\n",
        "\n",
        "Matrícula: 2022660190"
      ],
      "metadata": {
        "id": "1W36hCTq-nVo"
      }
    },
    {
      "cell_type": "markdown",
      "source": [
        "##TP 2 - Aprendizado de Máquina - UFMG\n",
        "--------------------------------------------------------------------------------"
      ],
      "metadata": {
        "id": "E3zLu9-e-nJc"
      }
    },
    {
      "cell_type": "markdown",
      "source": [
        "# Implementação do Algoritmo de Boosting"
      ],
      "metadata": {
        "id": "T8qEGBi4-m74"
      }
    },
    {
      "cell_type": "markdown",
      "source": [
        "##Introdução"
      ],
      "metadata": {
        "id": "pYFAG610CVKY"
      }
    },
    {
      "cell_type": "markdown",
      "source": [
        "Boosting é  o processo de reduzir o viés de um grande conjunto de modelos simples (i.e., com baixa variância). Esses modelos são chamados de modelos fracos, e são levemente correlacionados com a classifição correta. No processo de Boosting, os modelos fracos formam um modelo mais forte de maneira iterativa. Os modelos fracos são escolhidos iterativamente, de forma que cada modelo é escolhido levando-se em conta viéses independentes. Ou seja,\n",
        "cada modelo componente realiza erros diferentes de outros modelos componentes."
      ],
      "metadata": {
        "id": "IXvq80j0Do_3"
      }
    },
    {
      "cell_type": "markdown",
      "source": [
        "##Objetivo"
      ],
      "metadata": {
        "id": "NYe3ZZeXCWl8"
      }
    },
    {
      "cell_type": "markdown",
      "source": [
        "O objetivo deste trabalho prático é ganhar experiência com o processo de Boosting. Será implementado o processo de Boosting assumindo um problema de classificação binária com atributos categóricos. Os experimentos utilizarão o dataset tic-tac-toe, disponível em https://archive.ics.uci.edu/ml/datasets/Tic-Tac-Toe+Endgame. Será utilizado também a metodologia de validação cruzada com 5 partições e a medida de eficácia a ser considerada é a taxa de erro simples. Todo o processo de Boosting será implementado.  "
      ],
      "metadata": {
        "id": "ONAEn46FDpwd"
      }
    },
    {
      "cell_type": "markdown",
      "source": [
        "##Bibliotecas"
      ],
      "metadata": {
        "id": "-q9qEYMCCXSY"
      }
    },
    {
      "cell_type": "markdown",
      "source": [
        "A seguir temos todas as bibliotecas que serão utilizadas neste trabalho."
      ],
      "metadata": {
        "id": "Nu0cMDMDUJFK"
      }
    },
    {
      "cell_type": "code",
      "source": [
        "import pandas as pd\n",
        "import numpy as np\n",
        "import matplotlib.pyplot as plt\n",
        "import matplotlib.patches as mpatches\n",
        "from math import log2, fabs, exp\n",
        "\n",
        "%matplotlib inline"
      ],
      "metadata": {
        "id": "hONdi9hEUKrh"
      },
      "execution_count": 1,
      "outputs": []
    },
    {
      "cell_type": "markdown",
      "source": [
        "##Análise de Dados"
      ],
      "metadata": {
        "id": "rkAjI-TAasu2"
      }
    },
    {
      "cell_type": "markdown",
      "source": [
        "O dataset que será analizado codifica o conjunto completo de configurações possíveis no final dos jogos da velha, onde se supõe que \"x\" tenha jogado primeiro.  O conceito de destino é \"ganhar por x\" (ou seja, verdadeiro quando \"x\" tem uma das 8 maneiras possíveis de criar um \"três em linha\"). \n",
        "O dataset consiste de 958 opções possíveis, com 9 features de entrada, com 3 valores possíveis ('x', 'o' e 'b') e 2 classificações (positivo quando o jogador um vence e negativo quando o jogador um perde).\n",
        "\n",
        "As possíveis entradas para o dataset segundo o repositório em questão (UCI Machine Learning Repository) são:\n",
        "\n",
        "1.   top-left-square: {x,o,b}\n",
        "2.   top-middle-square: {x,o,b}\n",
        "3.   top-right-square: {x,o,b}\n",
        "4.   middle-left-square: {x,o,b}\n",
        "5.   middle-middle-square: {x,o,b}\n",
        "6.   middle-right-square: {x,o,b}\n",
        "7.   bottom-left-square: {x,o,b}\n",
        "8.   bottom-middle-square: {x,o,b}\n",
        "9.   bottom-right-square: {x,o,b}\n",
        "10.  Class: {positive,negative}\n",
        "\n",
        "\n",
        "\n"
      ],
      "metadata": {
        "id": "goNvAzRdDEXj"
      }
    },
    {
      "cell_type": "code",
      "source": [
        "# Importando os dados\n",
        "data = pd.read_csv('/content/tic-tac-toe.data', header=None)\n",
        "data.head()"
      ],
      "metadata": {
        "colab": {
          "base_uri": "https://localhost:8080/",
          "height": 206
        },
        "id": "OCb3iPXcatTh",
        "outputId": "1dd9a6e5-bc7b-4173-ae34-6f348ece5bd1"
      },
      "execution_count": 2,
      "outputs": [
        {
          "output_type": "execute_result",
          "data": {
            "text/plain": [
              "   0  1  2  3  4  5  6  7  8         9\n",
              "0  x  x  x  x  o  o  x  o  o  positive\n",
              "1  x  x  x  x  o  o  o  x  o  positive\n",
              "2  x  x  x  x  o  o  o  o  x  positive\n",
              "3  x  x  x  x  o  o  o  b  b  positive\n",
              "4  x  x  x  x  o  o  b  o  b  positive"
            ],
            "text/html": [
              "\n",
              "  <div id=\"df-37b85677-db1c-4bde-9465-8b353a226972\">\n",
              "    <div class=\"colab-df-container\">\n",
              "      <div>\n",
              "<style scoped>\n",
              "    .dataframe tbody tr th:only-of-type {\n",
              "        vertical-align: middle;\n",
              "    }\n",
              "\n",
              "    .dataframe tbody tr th {\n",
              "        vertical-align: top;\n",
              "    }\n",
              "\n",
              "    .dataframe thead th {\n",
              "        text-align: right;\n",
              "    }\n",
              "</style>\n",
              "<table border=\"1\" class=\"dataframe\">\n",
              "  <thead>\n",
              "    <tr style=\"text-align: right;\">\n",
              "      <th></th>\n",
              "      <th>0</th>\n",
              "      <th>1</th>\n",
              "      <th>2</th>\n",
              "      <th>3</th>\n",
              "      <th>4</th>\n",
              "      <th>5</th>\n",
              "      <th>6</th>\n",
              "      <th>7</th>\n",
              "      <th>8</th>\n",
              "      <th>9</th>\n",
              "    </tr>\n",
              "  </thead>\n",
              "  <tbody>\n",
              "    <tr>\n",
              "      <th>0</th>\n",
              "      <td>x</td>\n",
              "      <td>x</td>\n",
              "      <td>x</td>\n",
              "      <td>x</td>\n",
              "      <td>o</td>\n",
              "      <td>o</td>\n",
              "      <td>x</td>\n",
              "      <td>o</td>\n",
              "      <td>o</td>\n",
              "      <td>positive</td>\n",
              "    </tr>\n",
              "    <tr>\n",
              "      <th>1</th>\n",
              "      <td>x</td>\n",
              "      <td>x</td>\n",
              "      <td>x</td>\n",
              "      <td>x</td>\n",
              "      <td>o</td>\n",
              "      <td>o</td>\n",
              "      <td>o</td>\n",
              "      <td>x</td>\n",
              "      <td>o</td>\n",
              "      <td>positive</td>\n",
              "    </tr>\n",
              "    <tr>\n",
              "      <th>2</th>\n",
              "      <td>x</td>\n",
              "      <td>x</td>\n",
              "      <td>x</td>\n",
              "      <td>x</td>\n",
              "      <td>o</td>\n",
              "      <td>o</td>\n",
              "      <td>o</td>\n",
              "      <td>o</td>\n",
              "      <td>x</td>\n",
              "      <td>positive</td>\n",
              "    </tr>\n",
              "    <tr>\n",
              "      <th>3</th>\n",
              "      <td>x</td>\n",
              "      <td>x</td>\n",
              "      <td>x</td>\n",
              "      <td>x</td>\n",
              "      <td>o</td>\n",
              "      <td>o</td>\n",
              "      <td>o</td>\n",
              "      <td>b</td>\n",
              "      <td>b</td>\n",
              "      <td>positive</td>\n",
              "    </tr>\n",
              "    <tr>\n",
              "      <th>4</th>\n",
              "      <td>x</td>\n",
              "      <td>x</td>\n",
              "      <td>x</td>\n",
              "      <td>x</td>\n",
              "      <td>o</td>\n",
              "      <td>o</td>\n",
              "      <td>b</td>\n",
              "      <td>o</td>\n",
              "      <td>b</td>\n",
              "      <td>positive</td>\n",
              "    </tr>\n",
              "  </tbody>\n",
              "</table>\n",
              "</div>\n",
              "      <button class=\"colab-df-convert\" onclick=\"convertToInteractive('df-37b85677-db1c-4bde-9465-8b353a226972')\"\n",
              "              title=\"Convert this dataframe to an interactive table.\"\n",
              "              style=\"display:none;\">\n",
              "        \n",
              "  <svg xmlns=\"http://www.w3.org/2000/svg\" height=\"24px\"viewBox=\"0 0 24 24\"\n",
              "       width=\"24px\">\n",
              "    <path d=\"M0 0h24v24H0V0z\" fill=\"none\"/>\n",
              "    <path d=\"M18.56 5.44l.94 2.06.94-2.06 2.06-.94-2.06-.94-.94-2.06-.94 2.06-2.06.94zm-11 1L8.5 8.5l.94-2.06 2.06-.94-2.06-.94L8.5 2.5l-.94 2.06-2.06.94zm10 10l.94 2.06.94-2.06 2.06-.94-2.06-.94-.94-2.06-.94 2.06-2.06.94z\"/><path d=\"M17.41 7.96l-1.37-1.37c-.4-.4-.92-.59-1.43-.59-.52 0-1.04.2-1.43.59L10.3 9.45l-7.72 7.72c-.78.78-.78 2.05 0 2.83L4 21.41c.39.39.9.59 1.41.59.51 0 1.02-.2 1.41-.59l7.78-7.78 2.81-2.81c.8-.78.8-2.07 0-2.86zM5.41 20L4 18.59l7.72-7.72 1.47 1.35L5.41 20z\"/>\n",
              "  </svg>\n",
              "      </button>\n",
              "      \n",
              "  <style>\n",
              "    .colab-df-container {\n",
              "      display:flex;\n",
              "      flex-wrap:wrap;\n",
              "      gap: 12px;\n",
              "    }\n",
              "\n",
              "    .colab-df-convert {\n",
              "      background-color: #E8F0FE;\n",
              "      border: none;\n",
              "      border-radius: 50%;\n",
              "      cursor: pointer;\n",
              "      display: none;\n",
              "      fill: #1967D2;\n",
              "      height: 32px;\n",
              "      padding: 0 0 0 0;\n",
              "      width: 32px;\n",
              "    }\n",
              "\n",
              "    .colab-df-convert:hover {\n",
              "      background-color: #E2EBFA;\n",
              "      box-shadow: 0px 1px 2px rgba(60, 64, 67, 0.3), 0px 1px 3px 1px rgba(60, 64, 67, 0.15);\n",
              "      fill: #174EA6;\n",
              "    }\n",
              "\n",
              "    [theme=dark] .colab-df-convert {\n",
              "      background-color: #3B4455;\n",
              "      fill: #D2E3FC;\n",
              "    }\n",
              "\n",
              "    [theme=dark] .colab-df-convert:hover {\n",
              "      background-color: #434B5C;\n",
              "      box-shadow: 0px 1px 3px 1px rgba(0, 0, 0, 0.15);\n",
              "      filter: drop-shadow(0px 1px 2px rgba(0, 0, 0, 0.3));\n",
              "      fill: #FFFFFF;\n",
              "    }\n",
              "  </style>\n",
              "\n",
              "      <script>\n",
              "        const buttonEl =\n",
              "          document.querySelector('#df-37b85677-db1c-4bde-9465-8b353a226972 button.colab-df-convert');\n",
              "        buttonEl.style.display =\n",
              "          google.colab.kernel.accessAllowed ? 'block' : 'none';\n",
              "\n",
              "        async function convertToInteractive(key) {\n",
              "          const element = document.querySelector('#df-37b85677-db1c-4bde-9465-8b353a226972');\n",
              "          const dataTable =\n",
              "            await google.colab.kernel.invokeFunction('convertToInteractive',\n",
              "                                                     [key], {});\n",
              "          if (!dataTable) return;\n",
              "\n",
              "          const docLinkHtml = 'Like what you see? Visit the ' +\n",
              "            '<a target=\"_blank\" href=https://colab.research.google.com/notebooks/data_table.ipynb>data table notebook</a>'\n",
              "            + ' to learn more about interactive tables.';\n",
              "          element.innerHTML = '';\n",
              "          dataTable['output_type'] = 'display_data';\n",
              "          await google.colab.output.renderOutput(dataTable, element);\n",
              "          const docLink = document.createElement('div');\n",
              "          docLink.innerHTML = docLinkHtml;\n",
              "          element.appendChild(docLink);\n",
              "        }\n",
              "      </script>\n",
              "    </div>\n",
              "  </div>\n",
              "  "
            ]
          },
          "metadata": {},
          "execution_count": 2
        }
      ]
    },
    {
      "cell_type": "code",
      "source": [
        "#Analisando valores nulos\n",
        "data.isnull().sum()"
      ],
      "metadata": {
        "colab": {
          "base_uri": "https://localhost:8080/"
        },
        "id": "4sc9S9mGD_Ov",
        "outputId": "c2f37a8b-1c3f-4fe1-9e63-d9a39ffe155c"
      },
      "execution_count": 3,
      "outputs": [
        {
          "output_type": "execute_result",
          "data": {
            "text/plain": [
              "0    0\n",
              "1    0\n",
              "2    0\n",
              "3    0\n",
              "4    0\n",
              "5    0\n",
              "6    0\n",
              "7    0\n",
              "8    0\n",
              "9    0\n",
              "dtype: int64"
            ]
          },
          "metadata": {},
          "execution_count": 3
        }
      ]
    },
    {
      "cell_type": "code",
      "source": [
        "data.info()"
      ],
      "metadata": {
        "colab": {
          "base_uri": "https://localhost:8080/"
        },
        "id": "P0MAOZI3a7A7",
        "outputId": "aff48eb8-151b-4ab6-cccb-aafe0608d9c6"
      },
      "execution_count": 4,
      "outputs": [
        {
          "output_type": "stream",
          "name": "stdout",
          "text": [
            "<class 'pandas.core.frame.DataFrame'>\n",
            "RangeIndex: 958 entries, 0 to 957\n",
            "Data columns (total 10 columns):\n",
            " #   Column  Non-Null Count  Dtype \n",
            "---  ------  --------------  ----- \n",
            " 0   0       958 non-null    object\n",
            " 1   1       958 non-null    object\n",
            " 2   2       958 non-null    object\n",
            " 3   3       958 non-null    object\n",
            " 4   4       958 non-null    object\n",
            " 5   5       958 non-null    object\n",
            " 6   6       958 non-null    object\n",
            " 7   7       958 non-null    object\n",
            " 8   8       958 non-null    object\n",
            " 9   9       958 non-null    object\n",
            "dtypes: object(10)\n",
            "memory usage: 75.0+ KB\n"
          ]
        }
      ]
    },
    {
      "cell_type": "markdown",
      "source": [
        "Após analisar os dados foi constatado que não há valores nulos logo não será preciso este tratamento. \n",
        "Porém para implementação e execução do modelo Adaboost que será criado, precisa substituir os valores objects por valores numéricos. "
      ],
      "metadata": {
        "id": "FOi33G7NDZoc"
      }
    },
    {
      "cell_type": "code",
      "source": [
        "symbol_to_id = {'x': 1, 'o': -1, 'b': 2, 'positive':1, 'negative':-1}\n",
        "data = data.applymap(lambda x: symbol_to_id[x])"
      ],
      "metadata": {
        "id": "zMTrOrX6GPif"
      },
      "execution_count": 5,
      "outputs": []
    },
    {
      "cell_type": "code",
      "source": [
        "data.head()"
      ],
      "metadata": {
        "colab": {
          "base_uri": "https://localhost:8080/",
          "height": 206
        },
        "id": "SkY4NKHwHi09",
        "outputId": "51ed9f28-2ff9-497e-b9c9-da39188e1dba"
      },
      "execution_count": 6,
      "outputs": [
        {
          "output_type": "execute_result",
          "data": {
            "text/plain": [
              "   0  1  2  3  4  5  6  7  8  9\n",
              "0  1  1  1  1 -1 -1  1 -1 -1  1\n",
              "1  1  1  1  1 -1 -1 -1  1 -1  1\n",
              "2  1  1  1  1 -1 -1 -1 -1  1  1\n",
              "3  1  1  1  1 -1 -1 -1  2  2  1\n",
              "4  1  1  1  1 -1 -1  2 -1  2  1"
            ],
            "text/html": [
              "\n",
              "  <div id=\"df-f3aa3495-cb3a-4355-a3cd-b3acb7695caa\">\n",
              "    <div class=\"colab-df-container\">\n",
              "      <div>\n",
              "<style scoped>\n",
              "    .dataframe tbody tr th:only-of-type {\n",
              "        vertical-align: middle;\n",
              "    }\n",
              "\n",
              "    .dataframe tbody tr th {\n",
              "        vertical-align: top;\n",
              "    }\n",
              "\n",
              "    .dataframe thead th {\n",
              "        text-align: right;\n",
              "    }\n",
              "</style>\n",
              "<table border=\"1\" class=\"dataframe\">\n",
              "  <thead>\n",
              "    <tr style=\"text-align: right;\">\n",
              "      <th></th>\n",
              "      <th>0</th>\n",
              "      <th>1</th>\n",
              "      <th>2</th>\n",
              "      <th>3</th>\n",
              "      <th>4</th>\n",
              "      <th>5</th>\n",
              "      <th>6</th>\n",
              "      <th>7</th>\n",
              "      <th>8</th>\n",
              "      <th>9</th>\n",
              "    </tr>\n",
              "  </thead>\n",
              "  <tbody>\n",
              "    <tr>\n",
              "      <th>0</th>\n",
              "      <td>1</td>\n",
              "      <td>1</td>\n",
              "      <td>1</td>\n",
              "      <td>1</td>\n",
              "      <td>-1</td>\n",
              "      <td>-1</td>\n",
              "      <td>1</td>\n",
              "      <td>-1</td>\n",
              "      <td>-1</td>\n",
              "      <td>1</td>\n",
              "    </tr>\n",
              "    <tr>\n",
              "      <th>1</th>\n",
              "      <td>1</td>\n",
              "      <td>1</td>\n",
              "      <td>1</td>\n",
              "      <td>1</td>\n",
              "      <td>-1</td>\n",
              "      <td>-1</td>\n",
              "      <td>-1</td>\n",
              "      <td>1</td>\n",
              "      <td>-1</td>\n",
              "      <td>1</td>\n",
              "    </tr>\n",
              "    <tr>\n",
              "      <th>2</th>\n",
              "      <td>1</td>\n",
              "      <td>1</td>\n",
              "      <td>1</td>\n",
              "      <td>1</td>\n",
              "      <td>-1</td>\n",
              "      <td>-1</td>\n",
              "      <td>-1</td>\n",
              "      <td>-1</td>\n",
              "      <td>1</td>\n",
              "      <td>1</td>\n",
              "    </tr>\n",
              "    <tr>\n",
              "      <th>3</th>\n",
              "      <td>1</td>\n",
              "      <td>1</td>\n",
              "      <td>1</td>\n",
              "      <td>1</td>\n",
              "      <td>-1</td>\n",
              "      <td>-1</td>\n",
              "      <td>-1</td>\n",
              "      <td>2</td>\n",
              "      <td>2</td>\n",
              "      <td>1</td>\n",
              "    </tr>\n",
              "    <tr>\n",
              "      <th>4</th>\n",
              "      <td>1</td>\n",
              "      <td>1</td>\n",
              "      <td>1</td>\n",
              "      <td>1</td>\n",
              "      <td>-1</td>\n",
              "      <td>-1</td>\n",
              "      <td>2</td>\n",
              "      <td>-1</td>\n",
              "      <td>2</td>\n",
              "      <td>1</td>\n",
              "    </tr>\n",
              "  </tbody>\n",
              "</table>\n",
              "</div>\n",
              "      <button class=\"colab-df-convert\" onclick=\"convertToInteractive('df-f3aa3495-cb3a-4355-a3cd-b3acb7695caa')\"\n",
              "              title=\"Convert this dataframe to an interactive table.\"\n",
              "              style=\"display:none;\">\n",
              "        \n",
              "  <svg xmlns=\"http://www.w3.org/2000/svg\" height=\"24px\"viewBox=\"0 0 24 24\"\n",
              "       width=\"24px\">\n",
              "    <path d=\"M0 0h24v24H0V0z\" fill=\"none\"/>\n",
              "    <path d=\"M18.56 5.44l.94 2.06.94-2.06 2.06-.94-2.06-.94-.94-2.06-.94 2.06-2.06.94zm-11 1L8.5 8.5l.94-2.06 2.06-.94-2.06-.94L8.5 2.5l-.94 2.06-2.06.94zm10 10l.94 2.06.94-2.06 2.06-.94-2.06-.94-.94-2.06-.94 2.06-2.06.94z\"/><path d=\"M17.41 7.96l-1.37-1.37c-.4-.4-.92-.59-1.43-.59-.52 0-1.04.2-1.43.59L10.3 9.45l-7.72 7.72c-.78.78-.78 2.05 0 2.83L4 21.41c.39.39.9.59 1.41.59.51 0 1.02-.2 1.41-.59l7.78-7.78 2.81-2.81c.8-.78.8-2.07 0-2.86zM5.41 20L4 18.59l7.72-7.72 1.47 1.35L5.41 20z\"/>\n",
              "  </svg>\n",
              "      </button>\n",
              "      \n",
              "  <style>\n",
              "    .colab-df-container {\n",
              "      display:flex;\n",
              "      flex-wrap:wrap;\n",
              "      gap: 12px;\n",
              "    }\n",
              "\n",
              "    .colab-df-convert {\n",
              "      background-color: #E8F0FE;\n",
              "      border: none;\n",
              "      border-radius: 50%;\n",
              "      cursor: pointer;\n",
              "      display: none;\n",
              "      fill: #1967D2;\n",
              "      height: 32px;\n",
              "      padding: 0 0 0 0;\n",
              "      width: 32px;\n",
              "    }\n",
              "\n",
              "    .colab-df-convert:hover {\n",
              "      background-color: #E2EBFA;\n",
              "      box-shadow: 0px 1px 2px rgba(60, 64, 67, 0.3), 0px 1px 3px 1px rgba(60, 64, 67, 0.15);\n",
              "      fill: #174EA6;\n",
              "    }\n",
              "\n",
              "    [theme=dark] .colab-df-convert {\n",
              "      background-color: #3B4455;\n",
              "      fill: #D2E3FC;\n",
              "    }\n",
              "\n",
              "    [theme=dark] .colab-df-convert:hover {\n",
              "      background-color: #434B5C;\n",
              "      box-shadow: 0px 1px 3px 1px rgba(0, 0, 0, 0.15);\n",
              "      filter: drop-shadow(0px 1px 2px rgba(0, 0, 0, 0.3));\n",
              "      fill: #FFFFFF;\n",
              "    }\n",
              "  </style>\n",
              "\n",
              "      <script>\n",
              "        const buttonEl =\n",
              "          document.querySelector('#df-f3aa3495-cb3a-4355-a3cd-b3acb7695caa button.colab-df-convert');\n",
              "        buttonEl.style.display =\n",
              "          google.colab.kernel.accessAllowed ? 'block' : 'none';\n",
              "\n",
              "        async function convertToInteractive(key) {\n",
              "          const element = document.querySelector('#df-f3aa3495-cb3a-4355-a3cd-b3acb7695caa');\n",
              "          const dataTable =\n",
              "            await google.colab.kernel.invokeFunction('convertToInteractive',\n",
              "                                                     [key], {});\n",
              "          if (!dataTable) return;\n",
              "\n",
              "          const docLinkHtml = 'Like what you see? Visit the ' +\n",
              "            '<a target=\"_blank\" href=https://colab.research.google.com/notebooks/data_table.ipynb>data table notebook</a>'\n",
              "            + ' to learn more about interactive tables.';\n",
              "          element.innerHTML = '';\n",
              "          dataTable['output_type'] = 'display_data';\n",
              "          await google.colab.output.renderOutput(dataTable, element);\n",
              "          const docLink = document.createElement('div');\n",
              "          docLink.innerHTML = docLinkHtml;\n",
              "          element.appendChild(docLink);\n",
              "        }\n",
              "      </script>\n",
              "    </div>\n",
              "  </div>\n",
              "  "
            ]
          },
          "metadata": {},
          "execution_count": 6
        }
      ]
    },
    {
      "cell_type": "markdown",
      "source": [
        "##Implementação do AdaBoost"
      ],
      "metadata": {
        "id": "wkuCRxZ0CYiD"
      }
    },
    {
      "cell_type": "markdown",
      "source": [
        "O modelo que será implementado será o AdaBoost. Sendo assim será criado a classe AdaBoost e essa por sua vez possui seis métodos. Esses métodos consistem em treino, teste, avaliação do modelo, obter o melhor stump e atualização dos pesos da entrada. "
      ],
      "metadata": {
        "id": "kEU_phN_CZiG"
      }
    },
    {
      "cell_type": "code",
      "execution_count": 7,
      "metadata": {
        "id": "NSmJfiPz-Xdp"
      },
      "outputs": [],
      "source": [
        "#Implementando o AdaBoost e definindo suas classes\n",
        "class AdaBoost():\n",
        "    def __init__(self):\n",
        "        pass\n",
        "\n",
        "\n",
        "    def train(self, data, verbose=False, n_iter=90, min_delta=0.001, patience=10,\n",
        "              validation=False, validation_set=None):\n",
        "        self.bweights = [1.0/data.shape[0] for i in range(data.shape[0])]\n",
        "        self.data = data.values\n",
        "        self.validation_set = None\n",
        "        if validation:\n",
        "            self.validation_set = validation_set.values\n",
        "        self.alphas = []\n",
        "        self.stumps = []\n",
        "        last_accuracy = 0\n",
        "        cnt_update_accuracy = 0\n",
        "        train_acc = []\n",
        "        val_acc = []\n",
        "        \n",
        "        while n_iter > 0:\n",
        "            n_iter -= 1\n",
        "            best_stump, cur_alpha = self.get_best_stump()\n",
        "            self.alphas.append(cur_alpha)\n",
        "            self.stumps.append(best_stump)\n",
        "            if(self.update_bweights()):\n",
        "                break\n",
        "            cur_accuracy = self.evaluate_model(self.data)\n",
        "            if fabs(cur_accuracy-last_accuracy) < min_delta:\n",
        "                cnt_update_accuracy += 1\n",
        "            else:\n",
        "                last_accuracy = cur_accuracy\n",
        "                cnt_update_accuracy = 0\n",
        "            \n",
        "            train_acc.append(cur_accuracy)\n",
        "            if validation:\n",
        "                if not (validation_set is None):\n",
        "                    val_acc.append(self.evaluate_model(self.validation_set))\n",
        "            \n",
        "            if cnt_update_accuracy > patience:\n",
        "                break\n",
        "            \n",
        "            if(verbose):\n",
        "                if not validation:\n",
        "                    print('[ #stumps:', len(self.stumps), 'Acurácia de treino:', last_accuracy, ']')\n",
        "                else:\n",
        "                    print('[ #stumps:', len(self.stumps), 'Acurácia de treino:', last_accuracy,\n",
        "                          'Acurácia de validação:', val_acc[-1], ']')\n",
        "        return train_acc, val_acc\n",
        "\n",
        "\n",
        "    def test(self, test_data):\n",
        "        results = []\n",
        "        for entry in test_data:\n",
        "            cur_result = 0\n",
        "            for s_index in range(len(self.stumps)):\n",
        "                cur_result += self.alphas[s_index]*self.classify_stump(self.stumps[s_index], entry)\n",
        "            if cur_result < 0:\n",
        "                results.append(-1)\n",
        "            else:\n",
        "                results.append(1)\n",
        "\n",
        "        return results\n",
        "\n",
        "    \n",
        "    def evaluate_model(self, test_data):\n",
        "        results = self.test(test_data)\n",
        "        acc = 0\n",
        "        for i in range(test_data.shape[0]):\n",
        "            if results[i] == test_data[i][-1]:\n",
        "                acc += 1\n",
        "        acc = float(acc) / len(test_data)\n",
        "        return acc\n",
        "        \n",
        "\n",
        "    def classify_stump(self, stump, data_entry):\n",
        "        f_value = data_entry[stump[0]]\n",
        "        if f_value == symbol_to_id['x'] and stump[1]:\n",
        "            return stump[4]\n",
        "        elif f_value == symbol_to_id['o'] and stump[2]:\n",
        "            return stump[4]\n",
        "        elif f_value == symbol_to_id['b'] and stump[3]:\n",
        "            return stump[4]\n",
        "        else:\n",
        "            return -stump[4]\n",
        "\n",
        "\n",
        "    def get_best_stump(self):\n",
        "        best_stump = (0, 0, 0, 0, 1)\n",
        "        best_error = 10000000\n",
        "        for i in range(9):\n",
        "            for j in [0, 1]:\n",
        "                for l in [0, 1]:\n",
        "                    for m in [0, 1]:\n",
        "                        for n in [-1, 1]:\n",
        "                            cur_error = 0\n",
        "                            cur_stump = (i, j, l, m, n)\n",
        "                            for k in range(self.data.shape[0]):\n",
        "                                if self.classify_stump(cur_stump, self.data[k]) != self.data[k][9]:\n",
        "                                    cur_error += self.bweights[k]\n",
        "                            if cur_error < best_error:\n",
        "                                best_error = cur_error\n",
        "                                best_stump = cur_stump\n",
        "        alpha = 0.0\n",
        "        if best_error == 0:\n",
        "            alpha = 1\n",
        "        else:\n",
        "            alpha = log2((1.0-best_error)/best_error)/2.0\n",
        "\n",
        "        return best_stump, alpha\n",
        "\n",
        "\n",
        "    def update_bweights(self):\n",
        "        for i in range(len(self.bweights)):\n",
        "            exp_sign = self.classify_stump(self.stumps[-1], self.data[i]) * self.data[i][9]\n",
        "            self.bweights[i] *= exp(-self.alphas[-1]*exp_sign)\n",
        "        \n",
        "        z_normalizer = float(sum(self.bweights))\n",
        "        if (z_normalizer <= 0):\n",
        "            return True\n",
        "        for i in range(len(self.bweights)):\n",
        "            self.bweights[i] /= z_normalizer\n",
        "        return False"
      ]
    },
    {
      "cell_type": "markdown",
      "source": [
        "Depois de definida as classes da implementação do modelo AdaBoost, é separado os dados para treino sendo 25% para treino e 75% para validação. Também foi determinado para o treinamento número de SEEDs igual a 42 e serão realizadas 100 iterações. \n"
      ],
      "metadata": {
        "id": "T6dDw9StC4Wi"
      }
    },
    {
      "cell_type": "code",
      "source": [
        "#Treinando o AdaBoost\n",
        "SEED = 42\n",
        "np.random.seed(SEED)\n",
        "\n",
        "clf = AdaBoost()\n",
        "\n",
        "data = data.sample(frac=1, random_state=SEED).reset_index(drop=True)\n",
        "\n",
        "val_set = data.iloc[:int(0.25*data.shape[0])]\n",
        "train_set = data.iloc[int(0.25*data.shape[0]):]\n",
        "\n",
        "train_acc, val_acc = clf.train(data, verbose=True, n_iter=100, validation=True, validation_set=val_set)"
      ],
      "metadata": {
        "colab": {
          "base_uri": "https://localhost:8080/"
        },
        "id": "ZaCvukhvIJvW",
        "outputId": "bec6655e-c327-4cac-a85a-12a85705ff13"
      },
      "execution_count": 8,
      "outputs": [
        {
          "output_type": "stream",
          "name": "stdout",
          "text": [
            "[ #stumps: 1 Acurácia de treino: 0.6993736951983298 Acurácia de validação: 0.6861924686192469 ]\n",
            "[ #stumps: 2 Acurácia de treino: 0.6993736951983298 Acurácia de validação: 0.6861924686192469 ]\n",
            "[ #stumps: 3 Acurácia de treino: 0.6388308977035491 Acurácia de validação: 0.6569037656903766 ]\n",
            "[ #stumps: 4 Acurácia de treino: 0.7004175365344467 Acurácia de validação: 0.7112970711297071 ]\n",
            "[ #stumps: 5 Acurácia de treino: 0.744258872651357 Acurácia de validação: 0.7615062761506276 ]\n",
            "[ #stumps: 6 Acurácia de treino: 0.7192066805845512 Acurácia de validação: 0.7196652719665272 ]\n",
            "[ #stumps: 7 Acurácia de treino: 0.6878914405010439 Acurácia de validação: 0.6820083682008368 ]\n",
            "[ #stumps: 8 Acurácia de treino: 0.7265135699373695 Acurácia de validação: 0.7531380753138075 ]\n",
            "[ #stumps: 9 Acurácia de treino: 0.744258872651357 Acurácia de validação: 0.7866108786610879 ]\n",
            "[ #stumps: 10 Acurácia de treino: 0.7588726513569938 Acurácia de validação: 0.7782426778242678 ]\n",
            "[ #stumps: 11 Acurácia de treino: 0.7630480167014614 Acurácia de validação: 0.7866108786610879 ]\n",
            "[ #stumps: 12 Acurácia de treino: 0.7620041753653445 Acurácia de validação: 0.7615062761506276 ]\n",
            "[ #stumps: 13 Acurácia de treino: 0.7734864300626305 Acurácia de validação: 0.803347280334728 ]\n",
            "[ #stumps: 14 Acurácia de treino: 0.7797494780793319 Acurácia de validação: 0.799163179916318 ]\n",
            "[ #stumps: 15 Acurácia de treino: 0.7901878914405011 Acurácia de validação: 0.799163179916318 ]\n",
            "[ #stumps: 16 Acurácia de treino: 0.7933194154488518 Acurácia de validação: 0.7907949790794979 ]\n",
            "[ #stumps: 17 Acurácia de treino: 0.8235908141962421 Acurácia de validação: 0.8451882845188284 ]\n",
            "[ #stumps: 18 Acurácia de treino: 0.8204592901878914 Acurácia de validação: 0.8117154811715481 ]\n",
            "[ #stumps: 19 Acurácia de treino: 0.8924843423799582 Acurácia de validação: 0.9163179916317992 ]\n",
            "[ #stumps: 20 Acurácia de treino: 0.860125260960334 Acurácia de validação: 0.8661087866108786 ]\n",
            "[ #stumps: 21 Acurácia de treino: 0.8528183716075156 Acurácia de validação: 0.8619246861924686 ]\n",
            "[ #stumps: 22 Acurácia de treino: 0.8319415448851775 Acurácia de validação: 0.8410041841004184 ]\n",
            "[ #stumps: 23 Acurácia de treino: 0.8413361169102297 Acurácia de validação: 0.8410041841004184 ]\n",
            "[ #stumps: 24 Acurácia de treino: 0.8392484342379958 Acurácia de validação: 0.8493723849372385 ]\n",
            "[ #stumps: 25 Acurácia de treino: 0.837160751565762 Acurácia de validação: 0.8326359832635983 ]\n",
            "[ #stumps: 26 Acurácia de treino: 0.8549060542797495 Acurácia de validação: 0.8493723849372385 ]\n",
            "[ #stumps: 27 Acurácia de treino: 0.8590814196242171 Acurácia de validação: 0.8535564853556485 ]\n",
            "[ #stumps: 28 Acurácia de treino: 0.8757828810020877 Acurácia de validação: 0.8744769874476988 ]\n",
            "[ #stumps: 29 Acurácia de treino: 0.8757828810020877 Acurácia de validação: 0.895397489539749 ]\n",
            "[ #stumps: 30 Acurácia de treino: 0.8862212943632568 Acurácia de validação: 0.8786610878661087 ]\n",
            "[ #stumps: 31 Acurácia de treino: 0.8622129436325678 Acurácia de validação: 0.8535564853556485 ]\n",
            "[ #stumps: 32 Acurácia de treino: 0.8736951983298539 Acurácia de validação: 0.8661087866108786 ]\n",
            "[ #stumps: 33 Acurácia de treino: 0.8830897703549061 Acurácia de validação: 0.8786610878661087 ]\n",
            "[ #stumps: 34 Acurácia de treino: 0.8653444676409185 Acurácia de validação: 0.8535564853556485 ]\n",
            "[ #stumps: 35 Acurácia de treino: 0.8820459290187892 Acurácia de validação: 0.895397489539749 ]\n",
            "[ #stumps: 36 Acurácia de treino: 0.9050104384133612 Acurácia de validação: 0.8870292887029289 ]\n",
            "[ #stumps: 37 Acurácia de treino: 0.930062630480167 Acurácia de validação: 0.9372384937238494 ]\n",
            "[ #stumps: 38 Acurácia de treino: 0.9321503131524008 Acurácia de validação: 0.9330543933054394 ]\n",
            "[ #stumps: 39 Acurácia de treino: 0.9394572025052192 Acurácia de validação: 0.9456066945606695 ]\n",
            "[ #stumps: 40 Acurácia de treino: 0.9352818371607515 Acurácia de validação: 0.9414225941422594 ]\n",
            "[ #stumps: 41 Acurácia de treino: 0.9227557411273486 Acurácia de validação: 0.9372384937238494 ]\n",
            "[ #stumps: 42 Acurácia de treino: 0.9123173277661796 Acurácia de validação: 0.9079497907949791 ]\n",
            "[ #stumps: 43 Acurácia de treino: 0.9154488517745303 Acurácia de validação: 0.9163179916317992 ]\n",
            "[ #stumps: 44 Acurácia de treino: 0.9050104384133612 Acurácia de validação: 0.9288702928870293 ]\n",
            "[ #stumps: 45 Acurácia de treino: 0.8997912317327766 Acurácia de validação: 0.899581589958159 ]\n",
            "[ #stumps: 46 Acurácia de treino: 0.9164926931106472 Acurácia de validação: 0.9121338912133892 ]\n",
            "[ #stumps: 47 Acurácia de treino: 0.9384133611691023 Acurácia de validação: 0.9330543933054394 ]\n",
            "[ #stumps: 48 Acurácia de treino: 0.941544885177453 Acurácia de validação: 0.9456066945606695 ]\n",
            "[ #stumps: 49 Acurácia de treino: 0.9498956158663883 Acurácia de validação: 0.9414225941422594 ]\n",
            "[ #stumps: 50 Acurácia de treino: 0.9290187891440501 Acurácia de validação: 0.9163179916317992 ]\n",
            "[ #stumps: 51 Acurácia de treino: 0.9373695198329853 Acurácia de validação: 0.9330543933054394 ]\n",
            "[ #stumps: 52 Acurácia de treino: 0.9436325678496869 Acurácia de validação: 0.9456066945606695 ]\n",
            "[ #stumps: 53 Acurácia de treino: 0.930062630480167 Acurácia de validação: 0.9246861924686193 ]\n",
            "[ #stumps: 54 Acurácia de treino: 0.9394572025052192 Acurácia de validação: 0.9539748953974896 ]\n",
            "[ #stumps: 55 Acurácia de treino: 0.941544885177453 Acurácia de validação: 0.9456066945606695 ]\n",
            "[ #stumps: 56 Acurácia de treino: 0.941544885177453 Acurácia de validação: 0.9372384937238494 ]\n",
            "[ #stumps: 57 Acurácia de treino: 0.9592901878914405 Acurácia de validação: 0.9456066945606695 ]\n",
            "[ #stumps: 58 Acurácia de treino: 0.9665970772442589 Acurácia de validação: 0.9623430962343096 ]\n",
            "[ #stumps: 59 Acurácia de treino: 0.9707724425887265 Acurácia de validação: 0.9623430962343096 ]\n",
            "[ #stumps: 60 Acurácia de treino: 0.9603340292275574 Acurácia de validação: 0.9539748953974896 ]\n",
            "[ #stumps: 61 Acurácia de treino: 0.9509394572025052 Acurácia de validação: 0.9497907949790795 ]\n",
            "[ #stumps: 62 Acurácia de treino: 0.9582463465553236 Acurácia de validação: 0.9539748953974896 ]\n",
            "[ #stumps: 63 Acurácia de treino: 0.9467640918580376 Acurácia de validação: 0.9414225941422594 ]\n",
            "[ #stumps: 64 Acurácia de treino: 0.965553235908142 Acurácia de validação: 0.9581589958158996 ]\n",
            "[ #stumps: 65 Acurácia de treino: 0.965553235908142 Acurácia de validação: 0.9581589958158996 ]\n",
            "[ #stumps: 66 Acurácia de treino: 0.9801670146137788 Acurácia de validação: 0.9832635983263598 ]\n",
            "[ #stumps: 67 Acurácia de treino: 0.9707724425887265 Acurácia de validação: 0.9665271966527197 ]\n",
            "[ #stumps: 68 Acurácia de treino: 0.9832985386221295 Acurácia de validação: 0.9748953974895398 ]\n",
            "[ #stumps: 69 Acurácia de treino: 0.9791231732776617 Acurácia de validação: 0.9707112970711297 ]\n",
            "[ #stumps: 70 Acurácia de treino: 0.975991649269311 Acurácia de validação: 0.9665271966527197 ]\n",
            "[ #stumps: 71 Acurácia de treino: 0.9728601252609603 Acurácia de validação: 0.9623430962343096 ]\n",
            "[ #stumps: 72 Acurácia de treino: 0.9770354906054279 Acurácia de validação: 0.9707112970711297 ]\n",
            "[ #stumps: 73 Acurácia de treino: 0.9686847599164927 Acurácia de validação: 0.9707112970711297 ]\n",
            "[ #stumps: 74 Acurácia de treino: 0.965553235908142 Acurácia de validação: 0.9623430962343096 ]\n",
            "[ #stumps: 75 Acurácia de treino: 0.9634655532359081 Acurácia de validação: 0.9623430962343096 ]\n",
            "[ #stumps: 76 Acurácia de treino: 0.9582463465553236 Acurácia de validação: 0.9623430962343096 ]\n",
            "[ #stumps: 77 Acurácia de treino: 0.9749478079331941 Acurácia de validação: 0.9748953974895398 ]\n",
            "[ #stumps: 78 Acurácia de treino: 0.9676409185803758 Acurácia de validação: 0.9623430962343096 ]\n",
            "[ #stumps: 79 Acurácia de treino: 0.9697286012526096 Acurácia de validação: 0.9581589958158996 ]\n",
            "[ #stumps: 80 Acurácia de treino: 0.965553235908142 Acurácia de validação: 0.9665271966527197 ]\n",
            "[ #stumps: 81 Acurácia de treino: 0.9718162839248434 Acurácia de validação: 0.9581589958158996 ]\n",
            "[ #stumps: 82 Acurácia de treino: 0.9728601252609603 Acurácia de validação: 0.9707112970711297 ]\n",
            "[ #stumps: 83 Acurácia de treino: 0.9718162839248434 Acurácia de validação: 0.9665271966527197 ]\n",
            "[ #stumps: 84 Acurácia de treino: 0.9749478079331941 Acurácia de validação: 0.9748953974895398 ]\n",
            "[ #stumps: 85 Acurácia de treino: 0.9728601252609603 Acurácia de validação: 0.9665271966527197 ]\n",
            "[ #stumps: 86 Acurácia de treino: 0.9801670146137788 Acurácia de validação: 0.9748953974895398 ]\n",
            "[ #stumps: 87 Acurácia de treino: 0.9822546972860126 Acurácia de validação: 0.9748953974895398 ]\n",
            "[ #stumps: 88 Acurácia de treino: 0.9832985386221295 Acurácia de validação: 0.9748953974895398 ]\n",
            "[ #stumps: 89 Acurácia de treino: 0.9822546972860126 Acurácia de validação: 0.9707112970711297 ]\n",
            "[ #stumps: 90 Acurácia de treino: 0.9822546972860126 Acurácia de validação: 0.9748953974895398 ]\n",
            "[ #stumps: 91 Acurácia de treino: 0.9822546972860126 Acurácia de validação: 0.9707112970711297 ]\n",
            "[ #stumps: 92 Acurácia de treino: 0.9801670146137788 Acurácia de validação: 0.9707112970711297 ]\n",
            "[ #stumps: 93 Acurácia de treino: 0.9791231732776617 Acurácia de validação: 0.9748953974895398 ]\n",
            "[ #stumps: 94 Acurácia de treino: 0.9770354906054279 Acurácia de validação: 0.9707112970711297 ]\n",
            "[ #stumps: 95 Acurácia de treino: 0.9770354906054279 Acurácia de validação: 0.9707112970711297 ]\n",
            "[ #stumps: 96 Acurácia de treino: 0.9801670146137788 Acurácia de validação: 0.9748953974895398 ]\n",
            "[ #stumps: 97 Acurácia de treino: 0.9822546972860126 Acurácia de validação: 0.9748953974895398 ]\n",
            "[ #stumps: 98 Acurácia de treino: 0.9770354906054279 Acurácia de validação: 0.9748953974895398 ]\n",
            "[ #stumps: 99 Acurácia de treino: 0.9791231732776617 Acurácia de validação: 0.9748953974895398 ]\n",
            "[ #stumps: 100 Acurácia de treino: 0.9791231732776617 Acurácia de validação: 0.9707112970711297 ]\n"
          ]
        }
      ]
    },
    {
      "cell_type": "markdown",
      "source": [
        "Depois de implementado e treinado o AdaBoost, será feito a sua avaliação seguindo a metodologia de validação cruzada com 5 partições. \n",
        "\n",
        "Pode-se observar que o valor de acurácia encontrado para cada uma das 5 partições foi aproximadamente 98.43%, 96.34%, 98.95%, 98.43% e 96.86% respectivamente. Já a acurácia média do teste encontrada foi 97.80% com desvio padrão de 0.01015. Foi encontrado um ótimo valor para o modelo AdaBoost implementado. "
      ],
      "metadata": {
        "id": "H1b3Q8lAC6uG"
      }
    },
    {
      "cell_type": "code",
      "source": [
        "# Randomizando os dados\n",
        "data = data.sample(frac=1, random_state=SEED).reset_index(drop=True)\n",
        "\n",
        "fold_cnt = 1\n",
        "test_acc = []\n",
        "i=0\n",
        "j=-1\n",
        "\n",
        "step = int(0.2*data.shape[0])\n",
        "for fold in range(0, data.shape[0], step):\n",
        "    clf = AdaBoost()\n",
        "    \n",
        "    if fold+step > data.shape[0]:\n",
        "        continue\n",
        "    \n",
        "    test_set = data.iloc[fold:fold+step]\n",
        "    train_set = data.iloc[np.r_[0:fold, (fold+step):data.shape[0]]]\n",
        "    train_acc, garbage = clf.train(train_set, verbose=False)\n",
        "    test_acc.append(clf.evaluate_model(test_set.values))\n",
        "    \n",
        "    if(j == 1):\n",
        "        i += 1\n",
        "        j = 0\n",
        "    else:\n",
        "        j += 1\n",
        "    \n",
        "    fold_cnt += 1\n"
      ],
      "metadata": {
        "id": "7lAtZJxrLY5v"
      },
      "execution_count": 9,
      "outputs": []
    },
    {
      "cell_type": "code",
      "source": [
        "#Imprimindo os resultados de Acurácia\n",
        "print('Teste de Acurácia para cada fold:\\n', test_acc, '\\n')\n",
        "print('Acurácia média do teste:', np.mean(test_acc))\n",
        "print('Desvio Padrão da Acurácia do teste:', np.std(test_acc))"
      ],
      "metadata": {
        "colab": {
          "base_uri": "https://localhost:8080/"
        },
        "id": "5jt_6nC4MLmK",
        "outputId": "8088c0e3-11c6-419b-9a98-49316dc957d8"
      },
      "execution_count": 10,
      "outputs": [
        {
          "output_type": "stream",
          "name": "stdout",
          "text": [
            "Teste de Acurácia para cada fold:\n",
            " [0.9842931937172775, 0.9633507853403142, 0.9895287958115183, 0.9842931937172775, 0.9685863874345549] \n",
            "\n",
            "Acurácia média do teste: 0.9780104712041885\n",
            "Desvio Padrão da Acurácia do teste: 0.010152209125479232\n"
          ]
        }
      ]
    },
    {
      "cell_type": "markdown",
      "source": [
        "Para o modelo AdaBoost implementado foi plotado um gráfico de acurácia pelo número de iterações para análise. Observa-se então que tanto para o valor de treino como para o valor de validação há uma estabilização na acurácia do modelo aproximadamente em torno da 70 iteração. "
      ],
      "metadata": {
        "id": "yK7MwGgbC_z0"
      }
    },
    {
      "cell_type": "code",
      "source": [
        "#Plotando os valores de Acurácia pelo número de Iterações\n",
        "plt.plot(np.arange(len(train_acc)), train_acc, np.arange(len(val_acc)), val_acc)\n",
        "blue_patch = mpatches.Patch(color='blue', label='Treino')\n",
        "orange_patch = mpatches.Patch(color='orange', label='Validação')\n",
        "plt.legend(handles=[blue_patch, orange_patch])\n",
        "plt.ylabel('Acurácia')\n",
        "plt.xlabel('Número de iterações')\n",
        "plt.show()"
      ],
      "metadata": {
        "colab": {
          "base_uri": "https://localhost:8080/",
          "height": 283
        },
        "id": "dadOhOrZUR9C",
        "outputId": "29fc0c71-5e43-4010-ab7d-bee03ef226dd"
      },
      "execution_count": 11,
      "outputs": [
        {
          "output_type": "display_data",
          "data": {
            "text/plain": [
              "<Figure size 432x288 with 1 Axes>"
            ],
            "image/png": "[encoded data removed]"
          },
          "metadata": {
            "needs_background": "light"
          }
        }
      ]
    },
    {
      "cell_type": "markdown",
      "source": [
        "##Conclusão"
      ],
      "metadata": {
        "id": "OWn0WXnhU0Je"
      }
    },
    {
      "cell_type": "markdown",
      "source": [
        "Nesse projeto foi utilizado um conjunto de dados do jogo da velha (tic-tac-toe) e foi implementado o algoritmo AdaBoost que corresponde a uma abordagem específica para algortimos de aprendizado de boosting, para um problema de classificação binária com atributos categóricos. Foi realizado a avaliação seguindo a metodologia de validação cruzada com 5 partições.\n",
        "Os resultados encontraram apresentaram-se bons e altos com uma acurácia média do teste de 97.80% com desvio padrão pequeno de 0.01015 ou 1%. \n",
        "Feita a análise gráfica do modelo implatado observou-se que o algoritmo alcançous seu valor máximo de acurácia antes de parar, em torno da 70 iteração. Por meio da combinação de modelos fracos, foi possível obter um modelo forte, sendo possível melhorar o alto viés dos stumps e permanecer com uma baixa variância.\n",
        "\n"
      ],
      "metadata": {
        "id": "a7qi2U1EU1Fq"
      }
    }
  ]
}